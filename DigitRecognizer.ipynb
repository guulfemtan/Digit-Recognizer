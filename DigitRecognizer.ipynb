{
 "cells": [
  {
   "cell_type": "markdown",
   "metadata": {
    "id": "74_1TVoYvgsX"
   },
   "source": [
    "<h2 style=\"color: #F08B51;\">Digit Recognizer</h2>"
   ]
  },
  {
   "cell_type": "markdown",
   "metadata": {},
   "source": [
    "<img src= \"dr.png\" width=\"500\"/>"
   ]
  },
  {
   "cell_type": "markdown",
   "metadata": {
    "id": "-1oOiUY4vgp9"
   },
   "source": [
    "<h2 style=\"color: #F08B51;\">Introduction</h2>"
   ]
  },
  {
   "cell_type": "markdown",
   "metadata": {
    "id": "NfPe2_SVw8zl"
   },
   "source": [
    "This project aims to build a simple machine learning model to recognize handwritten digits using the MNIST dataset."
   ]
  },
  {
   "cell_type": "markdown",
   "metadata": {
    "id": "9l-lEw0svgne"
   },
   "source": [
    "<h2 style=\"color: #F08B51;\">Requirements</h2>"
   ]
  },
  {
   "cell_type": "code",
   "execution_count": 6,
   "metadata": {
    "id": "jsAubgQ2z9pI"
   },
   "outputs": [],
   "source": [
    "import numpy as np\n",
    "import pandas as pd\n",
    "import matplotlib.pyplot as plt\n",
    "import tensorflow as tf\n",
    "from sklearn.model_selection import StratifiedKFold\n",
    "import seaborn as sns\n",
    "from datetime import datetime\n",
    "date_str = datetime.now().strftime(\"%Y%m%d_%H%M%S\")"
   ]
  },
  {
   "cell_type": "markdown",
   "metadata": {
    "id": "uXX8AbExvgky"
   },
   "source": [
    "\n",
    "<h2 style=\"color: #F08B51;\">Import Data</h2>"
   ]
  },
  {
   "cell_type": "code",
   "execution_count": 8,
   "metadata": {
    "id": "14NRPATy0fa2"
   },
   "outputs": [],
   "source": [
    "df_train = pd.read_csv(\"train.csv\")\n"
   ]
  },
  {
   "cell_type": "code",
   "execution_count": 9,
   "metadata": {
    "id": "AbuOyWjg0nAd"
   },
   "outputs": [],
   "source": [
    "df_test = pd.read_csv(\"test.csv\")"
   ]
  },
  {
   "cell_type": "markdown",
   "metadata": {
    "id": "ga3-f_1Kvgf2"
   },
   "source": [
    "EDA (Exploratory Data Analysis)"
   ]
  },
  {
   "cell_type": "code",
   "execution_count": 11,
   "metadata": {
    "colab": {
     "base_uri": "https://localhost:8080/",
     "height": 193
    },
    "id": "wSlj61uG1Xih",
    "outputId": "46e60410-f558-4231-e3d7-4a92ada7dfd5"
   },
   "outputs": [
    {
     "data": {
      "text/html": [
       "<div>\n",
       "<style scoped>\n",
       "    .dataframe tbody tr th:only-of-type {\n",
       "        vertical-align: middle;\n",
       "    }\n",
       "\n",
       "    .dataframe tbody tr th {\n",
       "        vertical-align: top;\n",
       "    }\n",
       "\n",
       "    .dataframe thead th {\n",
       "        text-align: right;\n",
       "    }\n",
       "</style>\n",
       "<table border=\"1\" class=\"dataframe\">\n",
       "  <thead>\n",
       "    <tr style=\"text-align: right;\">\n",
       "      <th></th>\n",
       "      <th>label</th>\n",
       "      <th>pixel0</th>\n",
       "      <th>pixel1</th>\n",
       "      <th>pixel2</th>\n",
       "      <th>pixel3</th>\n",
       "      <th>pixel4</th>\n",
       "      <th>pixel5</th>\n",
       "      <th>pixel6</th>\n",
       "      <th>pixel7</th>\n",
       "      <th>pixel8</th>\n",
       "      <th>...</th>\n",
       "      <th>pixel774</th>\n",
       "      <th>pixel775</th>\n",
       "      <th>pixel776</th>\n",
       "      <th>pixel777</th>\n",
       "      <th>pixel778</th>\n",
       "      <th>pixel779</th>\n",
       "      <th>pixel780</th>\n",
       "      <th>pixel781</th>\n",
       "      <th>pixel782</th>\n",
       "      <th>pixel783</th>\n",
       "    </tr>\n",
       "  </thead>\n",
       "  <tbody>\n",
       "    <tr>\n",
       "      <th>3133</th>\n",
       "      <td>2</td>\n",
       "      <td>0</td>\n",
       "      <td>0</td>\n",
       "      <td>0</td>\n",
       "      <td>0</td>\n",
       "      <td>0</td>\n",
       "      <td>0</td>\n",
       "      <td>0</td>\n",
       "      <td>0</td>\n",
       "      <td>0</td>\n",
       "      <td>...</td>\n",
       "      <td>0</td>\n",
       "      <td>0</td>\n",
       "      <td>0</td>\n",
       "      <td>0</td>\n",
       "      <td>0</td>\n",
       "      <td>0</td>\n",
       "      <td>0</td>\n",
       "      <td>0</td>\n",
       "      <td>0</td>\n",
       "      <td>0</td>\n",
       "    </tr>\n",
       "    <tr>\n",
       "      <th>38156</th>\n",
       "      <td>8</td>\n",
       "      <td>0</td>\n",
       "      <td>0</td>\n",
       "      <td>0</td>\n",
       "      <td>0</td>\n",
       "      <td>0</td>\n",
       "      <td>0</td>\n",
       "      <td>0</td>\n",
       "      <td>0</td>\n",
       "      <td>0</td>\n",
       "      <td>...</td>\n",
       "      <td>0</td>\n",
       "      <td>0</td>\n",
       "      <td>0</td>\n",
       "      <td>0</td>\n",
       "      <td>0</td>\n",
       "      <td>0</td>\n",
       "      <td>0</td>\n",
       "      <td>0</td>\n",
       "      <td>0</td>\n",
       "      <td>0</td>\n",
       "    </tr>\n",
       "    <tr>\n",
       "      <th>20553</th>\n",
       "      <td>1</td>\n",
       "      <td>0</td>\n",
       "      <td>0</td>\n",
       "      <td>0</td>\n",
       "      <td>0</td>\n",
       "      <td>0</td>\n",
       "      <td>0</td>\n",
       "      <td>0</td>\n",
       "      <td>0</td>\n",
       "      <td>0</td>\n",
       "      <td>...</td>\n",
       "      <td>0</td>\n",
       "      <td>0</td>\n",
       "      <td>0</td>\n",
       "      <td>0</td>\n",
       "      <td>0</td>\n",
       "      <td>0</td>\n",
       "      <td>0</td>\n",
       "      <td>0</td>\n",
       "      <td>0</td>\n",
       "      <td>0</td>\n",
       "    </tr>\n",
       "  </tbody>\n",
       "</table>\n",
       "<p>3 rows × 785 columns</p>\n",
       "</div>"
      ],
      "text/plain": [
       "       label  pixel0  pixel1  pixel2  pixel3  pixel4  pixel5  pixel6  pixel7  \\\n",
       "3133       2       0       0       0       0       0       0       0       0   \n",
       "38156      8       0       0       0       0       0       0       0       0   \n",
       "20553      1       0       0       0       0       0       0       0       0   \n",
       "\n",
       "       pixel8  ...  pixel774  pixel775  pixel776  pixel777  pixel778  \\\n",
       "3133        0  ...         0         0         0         0         0   \n",
       "38156       0  ...         0         0         0         0         0   \n",
       "20553       0  ...         0         0         0         0         0   \n",
       "\n",
       "       pixel779  pixel780  pixel781  pixel782  pixel783  \n",
       "3133          0         0         0         0         0  \n",
       "38156         0         0         0         0         0  \n",
       "20553         0         0         0         0         0  \n",
       "\n",
       "[3 rows x 785 columns]"
      ]
     },
     "execution_count": 11,
     "metadata": {},
     "output_type": "execute_result"
    }
   ],
   "source": [
    "df_train.sample(3)"
   ]
  },
  {
   "cell_type": "code",
   "execution_count": 12,
   "metadata": {
    "colab": {
     "base_uri": "https://localhost:8080/",
     "height": 193
    },
    "id": "_ZHq32m_1naC",
    "outputId": "179b427a-0a17-416a-c42c-9be6ace10815"
   },
   "outputs": [
    {
     "data": {
      "text/html": [
       "<div>\n",
       "<style scoped>\n",
       "    .dataframe tbody tr th:only-of-type {\n",
       "        vertical-align: middle;\n",
       "    }\n",
       "\n",
       "    .dataframe tbody tr th {\n",
       "        vertical-align: top;\n",
       "    }\n",
       "\n",
       "    .dataframe thead th {\n",
       "        text-align: right;\n",
       "    }\n",
       "</style>\n",
       "<table border=\"1\" class=\"dataframe\">\n",
       "  <thead>\n",
       "    <tr style=\"text-align: right;\">\n",
       "      <th></th>\n",
       "      <th>pixel0</th>\n",
       "      <th>pixel1</th>\n",
       "      <th>pixel2</th>\n",
       "      <th>pixel3</th>\n",
       "      <th>pixel4</th>\n",
       "      <th>pixel5</th>\n",
       "      <th>pixel6</th>\n",
       "      <th>pixel7</th>\n",
       "      <th>pixel8</th>\n",
       "      <th>pixel9</th>\n",
       "      <th>...</th>\n",
       "      <th>pixel774</th>\n",
       "      <th>pixel775</th>\n",
       "      <th>pixel776</th>\n",
       "      <th>pixel777</th>\n",
       "      <th>pixel778</th>\n",
       "      <th>pixel779</th>\n",
       "      <th>pixel780</th>\n",
       "      <th>pixel781</th>\n",
       "      <th>pixel782</th>\n",
       "      <th>pixel783</th>\n",
       "    </tr>\n",
       "  </thead>\n",
       "  <tbody>\n",
       "    <tr>\n",
       "      <th>21277</th>\n",
       "      <td>0</td>\n",
       "      <td>0</td>\n",
       "      <td>0</td>\n",
       "      <td>0</td>\n",
       "      <td>0</td>\n",
       "      <td>0</td>\n",
       "      <td>0</td>\n",
       "      <td>0</td>\n",
       "      <td>0</td>\n",
       "      <td>0</td>\n",
       "      <td>...</td>\n",
       "      <td>0</td>\n",
       "      <td>0</td>\n",
       "      <td>0</td>\n",
       "      <td>0</td>\n",
       "      <td>0</td>\n",
       "      <td>0</td>\n",
       "      <td>0</td>\n",
       "      <td>0</td>\n",
       "      <td>0</td>\n",
       "      <td>0</td>\n",
       "    </tr>\n",
       "    <tr>\n",
       "      <th>27924</th>\n",
       "      <td>0</td>\n",
       "      <td>0</td>\n",
       "      <td>0</td>\n",
       "      <td>0</td>\n",
       "      <td>0</td>\n",
       "      <td>0</td>\n",
       "      <td>0</td>\n",
       "      <td>0</td>\n",
       "      <td>0</td>\n",
       "      <td>0</td>\n",
       "      <td>...</td>\n",
       "      <td>0</td>\n",
       "      <td>0</td>\n",
       "      <td>0</td>\n",
       "      <td>0</td>\n",
       "      <td>0</td>\n",
       "      <td>0</td>\n",
       "      <td>0</td>\n",
       "      <td>0</td>\n",
       "      <td>0</td>\n",
       "      <td>0</td>\n",
       "    </tr>\n",
       "    <tr>\n",
       "      <th>9176</th>\n",
       "      <td>0</td>\n",
       "      <td>0</td>\n",
       "      <td>0</td>\n",
       "      <td>0</td>\n",
       "      <td>0</td>\n",
       "      <td>0</td>\n",
       "      <td>0</td>\n",
       "      <td>0</td>\n",
       "      <td>0</td>\n",
       "      <td>0</td>\n",
       "      <td>...</td>\n",
       "      <td>0</td>\n",
       "      <td>0</td>\n",
       "      <td>0</td>\n",
       "      <td>0</td>\n",
       "      <td>0</td>\n",
       "      <td>0</td>\n",
       "      <td>0</td>\n",
       "      <td>0</td>\n",
       "      <td>0</td>\n",
       "      <td>0</td>\n",
       "    </tr>\n",
       "  </tbody>\n",
       "</table>\n",
       "<p>3 rows × 784 columns</p>\n",
       "</div>"
      ],
      "text/plain": [
       "       pixel0  pixel1  pixel2  pixel3  pixel4  pixel5  pixel6  pixel7  pixel8  \\\n",
       "21277       0       0       0       0       0       0       0       0       0   \n",
       "27924       0       0       0       0       0       0       0       0       0   \n",
       "9176        0       0       0       0       0       0       0       0       0   \n",
       "\n",
       "       pixel9  ...  pixel774  pixel775  pixel776  pixel777  pixel778  \\\n",
       "21277       0  ...         0         0         0         0         0   \n",
       "27924       0  ...         0         0         0         0         0   \n",
       "9176        0  ...         0         0         0         0         0   \n",
       "\n",
       "       pixel779  pixel780  pixel781  pixel782  pixel783  \n",
       "21277         0         0         0         0         0  \n",
       "27924         0         0         0         0         0  \n",
       "9176          0         0         0         0         0  \n",
       "\n",
       "[3 rows x 784 columns]"
      ]
     },
     "execution_count": 12,
     "metadata": {},
     "output_type": "execute_result"
    }
   ],
   "source": [
    "df_test.sample(3)"
   ]
  },
  {
   "cell_type": "code",
   "execution_count": 13,
   "metadata": {
    "colab": {
     "base_uri": "https://localhost:8080/",
     "height": 429
    },
    "id": "9TJEA_1A1vkD",
    "outputId": "c3906091-d9e7-493c-abef-c513b6a44257"
   },
   "outputs": [
    {
     "data": {
      "text/plain": [
       "label\n",
       "1    4684\n",
       "7    4401\n",
       "3    4351\n",
       "9    4188\n",
       "2    4177\n",
       "6    4137\n",
       "0    4132\n",
       "4    4072\n",
       "8    4063\n",
       "5    3795\n",
       "Name: count, dtype: int64"
      ]
     },
     "execution_count": 13,
     "metadata": {},
     "output_type": "execute_result"
    }
   ],
   "source": [
    "df_train[\"label\"].value_counts()"
   ]
  },
  {
   "cell_type": "code",
   "execution_count": 14,
   "metadata": {
    "colab": {
     "base_uri": "https://localhost:8080/"
    },
    "id": "8W60njLv17kc",
    "outputId": "14d52e04-011d-44e1-a6a8-e172ef911179"
   },
   "outputs": [
    {
     "data": {
      "text/plain": [
       "0"
      ]
     },
     "execution_count": 14,
     "metadata": {},
     "output_type": "execute_result"
    }
   ],
   "source": [
    "df_train.isnull().sum().sum()"
   ]
  },
  {
   "cell_type": "code",
   "execution_count": 15,
   "metadata": {
    "colab": {
     "base_uri": "https://localhost:8080/"
    },
    "id": "3ALEcOq72E0M",
    "outputId": "a23a58bd-0655-4e34-837e-445861e4c3d7"
   },
   "outputs": [
    {
     "data": {
      "text/plain": [
       "0"
      ]
     },
     "execution_count": 15,
     "metadata": {},
     "output_type": "execute_result"
    }
   ],
   "source": [
    "df_test.isnull().sum().sum()"
   ]
  },
  {
   "cell_type": "code",
   "execution_count": 16,
   "metadata": {
    "colab": {
     "base_uri": "https://localhost:8080/"
    },
    "id": "-3ixM78z0sTa",
    "outputId": "8b99e14f-0fe3-40fb-a23b-cc6dd62ea73b"
   },
   "outputs": [
    {
     "data": {
      "text/plain": [
       "(42000, 785)"
      ]
     },
     "execution_count": 16,
     "metadata": {},
     "output_type": "execute_result"
    }
   ],
   "source": [
    "df_train.shape"
   ]
  },
  {
   "cell_type": "code",
   "execution_count": 17,
   "metadata": {
    "colab": {
     "base_uri": "https://localhost:8080/"
    },
    "id": "Q3OtrlkS07A4",
    "outputId": "fd32dc51-3a4d-4a38-a8f1-18d758b7e329"
   },
   "outputs": [
    {
     "data": {
      "text/plain": [
       "(28000, 784)"
      ]
     },
     "execution_count": 17,
     "metadata": {},
     "output_type": "execute_result"
    }
   ],
   "source": [
    "df_test.shape"
   ]
  },
  {
   "cell_type": "markdown",
   "metadata": {
    "id": "_cZOhBfP1RKC"
   },
   "source": [
    "<h2 style=\"color: #F08B51;\">Data Visualization</h2>"
   ]
  },
  {
   "cell_type": "code",
   "execution_count": 19,
   "metadata": {
    "colab": {
     "base_uri": "https://localhost:8080/",
     "height": 467
    },
    "id": "ahXL2UUR0_W4",
    "outputId": "3bbe5c6c-d025-4163-e214-d4851bf3149d"
   },
   "outputs": [
    {
     "data": {
      "image/png": "[encoded data removed]",
      "text/plain": [
       "<Figure size 640x480 with 1 Axes>"
      ]
     },
     "metadata": {},
     "output_type": "display_data"
    }
   ],
   "source": [
    "df_train[\"label\"].value_counts().sort_index().plot(kind=\"bar\")\n",
    "plt.xlabel(\"Digit\")\n",
    "plt.ylabel(\"Count\")\n",
    "plt.title(\"Distribution of Digits in Training Set\")\n",
    "plt.show()"
   ]
  },
  {
   "cell_type": "code",
   "execution_count": 20,
   "metadata": {
    "colab": {
     "base_uri": "https://localhost:8080/",
     "height": 144
    },
    "id": "TdQVqlwW1FiR",
    "outputId": "e299e65f-92ae-4baa-b0c6-364e5f32e80f"
   },
   "outputs": [
    {
     "data": {
      "image/png": "[encoded data removed]",
      "text/plain": [
       "<Figure size 640x480 with 5 Axes>"
      ]
     },
     "metadata": {},
     "output_type": "display_data"
    }
   ],
   "source": [
    "for i in range(5):\n",
    "    plt.subplot(1,5,i+1)\n",
    "    plt.imshow(df_train.drop(\"label\", axis=1).iloc[i].values.reshape(28,28), cmap=\"gray\")\n",
    "    plt.title(f\"Label: {df_train['label'].iloc[i]}\")\n",
    "    plt.axis(\"off\")\n",
    "plt.show()"
   ]
  },
  {
   "cell_type": "code",
   "execution_count": 21,
   "metadata": {
    "colab": {
     "base_uri": "https://localhost:8080/",
     "height": 447
    },
    "id": "t4z3jcA_3EVG",
    "outputId": "f37b68c7-d133-4600-e2b6-1f1dd4685d48"
   },
   "outputs": [
    {
     "data": {
      "text/plain": [
       "<matplotlib.image.AxesImage at 0x2a5ed999a60>"
      ]
     },
     "execution_count": 21,
     "metadata": {},
     "output_type": "execute_result"
    },
    {
     "data": {
      "image/png": "[encoded data removed]",
      "text/plain": [
       "<Figure size 640x480 with 1 Axes>"
      ]
     },
     "metadata": {},
     "output_type": "display_data"
    }
   ],
   "source": [
    "plt.imshow(df_train.drop(\"label\", axis=1).iloc[i].values.reshape(28,28), cmap=\"gray\")"
   ]
  },
  {
   "cell_type": "markdown",
   "metadata": {
    "id": "bJOmJIjHvgdR"
   },
   "source": [
    "\n",
    "<h2 style=\"color: #F08B51;\">Preprocessing</h2> "
   ]
  },
  {
   "cell_type": "code",
   "execution_count": 23,
   "metadata": {
    "id": "TP-bfK2q2lbw"
   },
   "outputs": [],
   "source": [
    "x_train = df_train.drop(\"label\", axis=1).values\n",
    "y_train = df_train[\"label\"].values"
   ]
  },
  {
   "cell_type": "code",
   "execution_count": 24,
   "metadata": {
    "id": "QUals7qc2o4i"
   },
   "outputs": [],
   "source": [
    "x_test = df_test.values"
   ]
  },
  {
   "cell_type": "code",
   "execution_count": 25,
   "metadata": {
    "colab": {
     "base_uri": "https://localhost:8080/"
    },
    "id": "TzI9m9TE2sGR",
    "outputId": "d985d156-8092-4928-cfd8-263748f40484"
   },
   "outputs": [
    {
     "data": {
      "text/plain": [
       "((42000, 784), (42000,), (28000, 784))"
      ]
     },
     "execution_count": 25,
     "metadata": {},
     "output_type": "execute_result"
    }
   ],
   "source": [
    "x_train.shape, y_train.shape, x_test.shape"
   ]
  },
  {
   "cell_type": "code",
   "execution_count": 26,
   "metadata": {
    "id": "MI2ijEX54rNy"
   },
   "outputs": [],
   "source": [
    "preprocessing_layer = tf.keras.Sequential([\n",
    "    tf.keras.Input(shape=(784,)),\n",
    "    tf.keras.layers.Reshape((28, 28, 1)),       # Reshape to 28x28 grayscale image\n",
    "    tf.keras.layers.Rescaling(1./255)           # Normalize pixel values\n",
    "])"
   ]
  },
  {
   "cell_type": "markdown",
   "metadata": {
    "id": "ECyzFsk9vgan"
   },
   "source": [
    "<h2 style=\"color: #F08B51;\">Requirements</h2> Model Configuration"
   ]
  },
  {
   "cell_type": "code",
   "execution_count": 28,
   "metadata": {
    "id": "QFmoPqfz41he"
   },
   "outputs": [],
   "source": [
    "SEED = 42\n",
    "NUM_FOLD = 5\n",
    "BATCH_SIZE = 32\n",
    "SHUFFLE_SIZE = 1000\n",
    "PREFETCH_SIZE = tf.data.AUTOTUNE\n",
    "\n",
    "kf = StratifiedKFold(n_splits=NUM_FOLD, shuffle=True, random_state=SEED)\n",
    "\n",
    "fold_acc_hist, fold_loss_hist = [], []\n",
    "histories = []"
   ]
  },
  {
   "cell_type": "markdown",
   "metadata": {
    "id": "J0bSYkbzvfvm"
   },
   "source": [
    "<h2 style=\"color: #F08B51;\">Requirements</h2> CNN Model Architecture"
   ]
  },
  {
   "cell_type": "code",
   "execution_count": 30,
   "metadata": {
    "id": "csGqiWCc4_yH"
   },
   "outputs": [],
   "source": [
    "def build_digit_model(input_size=(28, 28, 1), num_classes=10):\n",
    "    inputs = tf.keras.Input(shape=input_size)\n",
    "    x = tf.keras.layers.Conv2D(32, (3, 3), activation='relu')(inputs)\n",
    "    x = tf.keras.layers.MaxPooling2D((2, 2))(x)\n",
    "    x = tf.keras.layers.Flatten()(x)\n",
    "    x = tf.keras.layers.Dense(128, activation='relu')(x)\n",
    "    outputs = tf.keras.layers.Dense(num_classes, activation='linear')(x)\n",
    "    model = tf.keras.Model(inputs, outputs)\n",
    "    return model\n"
   ]
  },
  {
   "cell_type": "markdown",
   "metadata": {
    "id": "YOmJIJL65Fn9"
   },
   "source": [
    "<h2 style=\"color: #F08B51;\"> Model Training with Stratified K-Fold</h2>"
   ]
  },
  {
   "cell_type": "code",
   "execution_count": 32,
   "metadata": {
    "colab": {
     "base_uri": "https://localhost:8080/"
    },
    "id": "ypV-aQnu5Ecq",
    "outputId": "60781bcd-dc49-4510-fb20-f2181c9da94d"
   },
   "outputs": [
    {
     "name": "stdout",
     "output_type": "stream",
     "text": [
      "Fold 1/5\n",
      "Epoch 1/30\n",
      "1050/1050 - 31s - 29ms/step - accuracy: 0.9376 - loss: 0.2118 - val_accuracy: 0.9650 - val_loss: 0.1169 - learning_rate: 0.0010\n",
      "Epoch 2/30\n",
      "1050/1050 - 43s - 41ms/step - accuracy: 0.9793 - loss: 0.0685 - val_accuracy: 0.9771 - val_loss: 0.0812 - learning_rate: 0.0010\n",
      "Epoch 3/30\n",
      "1050/1050 - 39s - 37ms/step - accuracy: 0.9870 - loss: 0.0416 - val_accuracy: 0.9790 - val_loss: 0.0645 - learning_rate: 0.0010\n",
      "Epoch 4/30\n",
      "1050/1050 - 40s - 38ms/step - accuracy: 0.9920 - loss: 0.0260 - val_accuracy: 0.9785 - val_loss: 0.0690 - learning_rate: 0.0010\n",
      "Epoch 5/30\n",
      "1050/1050 - 27s - 26ms/step - accuracy: 0.9945 - loss: 0.0181 - val_accuracy: 0.9771 - val_loss: 0.0780 - learning_rate: 0.0010\n",
      "Epoch 6/30\n",
      "1050/1050 - 43s - 41ms/step - accuracy: 0.9962 - loss: 0.0122 - val_accuracy: 0.9839 - val_loss: 0.0645 - learning_rate: 0.0010\n",
      "Epoch 7/30\n",
      "1050/1050 - 69s - 66ms/step - accuracy: 0.9993 - loss: 0.0034 - val_accuracy: 0.9858 - val_loss: 0.0590 - learning_rate: 2.0000e-04\n",
      "Epoch 8/30\n",
      "1050/1050 - 57s - 54ms/step - accuracy: 0.9999 - loss: 0.0016 - val_accuracy: 0.9857 - val_loss: 0.0604 - learning_rate: 2.0000e-04\n",
      "Epoch 9/30\n",
      "1050/1050 - 57s - 54ms/step - accuracy: 1.0000 - loss: 9.6872e-04 - val_accuracy: 0.9852 - val_loss: 0.0630 - learning_rate: 2.0000e-04\n",
      "Epoch 10/30\n",
      "1050/1050 - 88s - 84ms/step - accuracy: 1.0000 - loss: 7.2422e-04 - val_accuracy: 0.9854 - val_loss: 0.0654 - learning_rate: 2.0000e-04\n",
      "Epoch 11/30\n",
      "1050/1050 - 77s - 74ms/step - accuracy: 1.0000 - loss: 4.3347e-04 - val_accuracy: 0.9852 - val_loss: 0.0660 - learning_rate: 4.0000e-05\n",
      "Epoch 12/30\n",
      "1050/1050 - 81s - 77ms/step - accuracy: 1.0000 - loss: 3.6485e-04 - val_accuracy: 0.9854 - val_loss: 0.0670 - learning_rate: 4.0000e-05\n",
      "Validation Accuracy: 0.9858, Loss: 0.0590\n",
      "Fold 2/5\n",
      "Epoch 1/30\n",
      "1050/1050 - 63s - 60ms/step - accuracy: 0.9382 - loss: 0.2049 - val_accuracy: 0.9700 - val_loss: 0.0929 - learning_rate: 0.0010\n",
      "Epoch 2/30\n",
      "1050/1050 - 37s - 35ms/step - accuracy: 0.9807 - loss: 0.0641 - val_accuracy: 0.9775 - val_loss: 0.0719 - learning_rate: 0.0010\n",
      "Epoch 3/30\n",
      "1050/1050 - 30s - 29ms/step - accuracy: 0.9881 - loss: 0.0395 - val_accuracy: 0.9813 - val_loss: 0.0592 - learning_rate: 0.0010\n",
      "Epoch 4/30\n",
      "1050/1050 - 39s - 37ms/step - accuracy: 0.9922 - loss: 0.0260 - val_accuracy: 0.9810 - val_loss: 0.0656 - learning_rate: 0.0010\n",
      "Epoch 5/30\n",
      "1050/1050 - 27s - 26ms/step - accuracy: 0.9948 - loss: 0.0158 - val_accuracy: 0.9845 - val_loss: 0.0566 - learning_rate: 0.0010\n",
      "Epoch 6/30\n",
      "1050/1050 - 40s - 38ms/step - accuracy: 0.9964 - loss: 0.0116 - val_accuracy: 0.9831 - val_loss: 0.0568 - learning_rate: 0.0010\n",
      "Epoch 7/30\n",
      "1050/1050 - 29s - 28ms/step - accuracy: 0.9971 - loss: 0.0092 - val_accuracy: 0.9833 - val_loss: 0.0647 - learning_rate: 0.0010\n",
      "Epoch 8/30\n",
      "1050/1050 - 39s - 37ms/step - accuracy: 0.9971 - loss: 0.0085 - val_accuracy: 0.9833 - val_loss: 0.0627 - learning_rate: 0.0010\n",
      "Epoch 9/30\n",
      "1050/1050 - 41s - 39ms/step - accuracy: 0.9995 - loss: 0.0024 - val_accuracy: 0.9870 - val_loss: 0.0494 - learning_rate: 2.0000e-04\n",
      "Epoch 10/30\n",
      "1050/1050 - 40s - 38ms/step - accuracy: 1.0000 - loss: 7.1921e-04 - val_accuracy: 0.9868 - val_loss: 0.0503 - learning_rate: 2.0000e-04\n",
      "Epoch 11/30\n",
      "1050/1050 - 41s - 39ms/step - accuracy: 1.0000 - loss: 4.0086e-04 - val_accuracy: 0.9870 - val_loss: 0.0512 - learning_rate: 2.0000e-04\n",
      "Epoch 12/30\n",
      "1050/1050 - 30s - 29ms/step - accuracy: 1.0000 - loss: 2.7820e-04 - val_accuracy: 0.9870 - val_loss: 0.0527 - learning_rate: 2.0000e-04\n",
      "Epoch 13/30\n",
      "1050/1050 - 55s - 52ms/step - accuracy: 1.0000 - loss: 1.8335e-04 - val_accuracy: 0.9869 - val_loss: 0.0529 - learning_rate: 4.0000e-05\n",
      "Epoch 14/30\n",
      "1050/1050 - 60s - 58ms/step - accuracy: 1.0000 - loss: 1.5695e-04 - val_accuracy: 0.9869 - val_loss: 0.0535 - learning_rate: 4.0000e-05\n",
      "Validation Accuracy: 0.9870, Loss: 0.0494\n",
      "Fold 3/5\n",
      "Epoch 1/30\n",
      "1050/1050 - 77s - 73ms/step - accuracy: 0.9399 - loss: 0.2033 - val_accuracy: 0.9708 - val_loss: 0.0956 - learning_rate: 0.0010\n",
      "Epoch 2/30\n",
      "1050/1050 - 87s - 83ms/step - accuracy: 0.9797 - loss: 0.0668 - val_accuracy: 0.9769 - val_loss: 0.0770 - learning_rate: 0.0010\n",
      "Epoch 3/30\n",
      "1050/1050 - 71s - 67ms/step - accuracy: 0.9876 - loss: 0.0400 - val_accuracy: 0.9785 - val_loss: 0.0686 - learning_rate: 0.0010\n",
      "Epoch 4/30\n",
      "1050/1050 - 62s - 59ms/step - accuracy: 0.9916 - loss: 0.0256 - val_accuracy: 0.9801 - val_loss: 0.0741 - learning_rate: 0.0010\n",
      "Epoch 5/30\n",
      "1050/1050 - 55s - 52ms/step - accuracy: 0.9943 - loss: 0.0174 - val_accuracy: 0.9804 - val_loss: 0.0758 - learning_rate: 0.0010\n",
      "Epoch 6/30\n",
      "1050/1050 - 29s - 28ms/step - accuracy: 0.9961 - loss: 0.0113 - val_accuracy: 0.9840 - val_loss: 0.0660 - learning_rate: 0.0010\n",
      "Epoch 7/30\n",
      "1050/1050 - 24s - 23ms/step - accuracy: 0.9968 - loss: 0.0098 - val_accuracy: 0.9836 - val_loss: 0.0659 - learning_rate: 0.0010\n",
      "Epoch 8/30\n",
      "1050/1050 - 41s - 39ms/step - accuracy: 0.9970 - loss: 0.0085 - val_accuracy: 0.9836 - val_loss: 0.0704 - learning_rate: 0.0010\n",
      "Epoch 9/30\n",
      "1050/1050 - 27s - 26ms/step - accuracy: 0.9976 - loss: 0.0068 - val_accuracy: 0.9832 - val_loss: 0.0818 - learning_rate: 0.0010\n",
      "Epoch 10/30\n",
      "1050/1050 - 26s - 25ms/step - accuracy: 0.9998 - loss: 0.0014 - val_accuracy: 0.9863 - val_loss: 0.0669 - learning_rate: 2.0000e-04\n",
      "Epoch 11/30\n",
      "1050/1050 - 27s - 26ms/step - accuracy: 1.0000 - loss: 3.4814e-04 - val_accuracy: 0.9865 - val_loss: 0.0674 - learning_rate: 2.0000e-04\n",
      "Epoch 12/30\n",
      "1050/1050 - 39s - 37ms/step - accuracy: 1.0000 - loss: 2.1771e-04 - val_accuracy: 0.9865 - val_loss: 0.0689 - learning_rate: 2.0000e-04\n",
      "Validation Accuracy: 0.9836, Loss: 0.0659\n",
      "Fold 4/5\n",
      "Epoch 1/30\n",
      "1050/1050 - 53s - 50ms/step - accuracy: 0.9429 - loss: 0.1953 - val_accuracy: 0.9764 - val_loss: 0.0756 - learning_rate: 0.0010\n",
      "Epoch 2/30\n",
      "1050/1050 - 79s - 76ms/step - accuracy: 0.9817 - loss: 0.0618 - val_accuracy: 0.9793 - val_loss: 0.0640 - learning_rate: 0.0010\n",
      "Epoch 3/30\n",
      "1050/1050 - 63s - 60ms/step - accuracy: 0.9884 - loss: 0.0376 - val_accuracy: 0.9782 - val_loss: 0.0655 - learning_rate: 0.0010\n",
      "Epoch 4/30\n",
      "1050/1050 - 27s - 26ms/step - accuracy: 0.9923 - loss: 0.0239 - val_accuracy: 0.9830 - val_loss: 0.0598 - learning_rate: 0.0010\n",
      "Epoch 5/30\n",
      "1050/1050 - 26s - 25ms/step - accuracy: 0.9945 - loss: 0.0168 - val_accuracy: 0.9793 - val_loss: 0.0685 - learning_rate: 0.0010\n",
      "Epoch 6/30\n",
      "1050/1050 - 41s - 39ms/step - accuracy: 0.9966 - loss: 0.0110 - val_accuracy: 0.9832 - val_loss: 0.0649 - learning_rate: 0.0010\n",
      "Epoch 7/30\n",
      "1050/1050 - 40s - 38ms/step - accuracy: 0.9970 - loss: 0.0095 - val_accuracy: 0.9825 - val_loss: 0.0724 - learning_rate: 0.0010\n",
      "Epoch 8/30\n",
      "1050/1050 - 41s - 39ms/step - accuracy: 0.9994 - loss: 0.0025 - val_accuracy: 0.9855 - val_loss: 0.0573 - learning_rate: 2.0000e-04\n",
      "Epoch 9/30\n",
      "1050/1050 - 40s - 39ms/step - accuracy: 0.9999 - loss: 9.9843e-04 - val_accuracy: 0.9858 - val_loss: 0.0588 - learning_rate: 2.0000e-04\n",
      "Epoch 10/30\n",
      "1050/1050 - 44s - 42ms/step - accuracy: 1.0000 - loss: 6.3603e-04 - val_accuracy: 0.9862 - val_loss: 0.0614 - learning_rate: 2.0000e-04\n",
      "Epoch 11/30\n",
      "1050/1050 - 39s - 37ms/step - accuracy: 1.0000 - loss: 4.4486e-04 - val_accuracy: 0.9863 - val_loss: 0.0638 - learning_rate: 2.0000e-04\n",
      "Epoch 12/30\n",
      "1050/1050 - 40s - 38ms/step - accuracy: 1.0000 - loss: 2.8787e-04 - val_accuracy: 0.9864 - val_loss: 0.0636 - learning_rate: 4.0000e-05\n",
      "Epoch 13/30\n",
      "1050/1050 - 41s - 39ms/step - accuracy: 1.0000 - loss: 2.4131e-04 - val_accuracy: 0.9867 - val_loss: 0.0642 - learning_rate: 4.0000e-05\n",
      "Validation Accuracy: 0.9855, Loss: 0.0573\n",
      "Fold 5/5\n",
      "Epoch 1/30\n",
      "1050/1050 - 29s - 28ms/step - accuracy: 0.9382 - loss: 0.2074 - val_accuracy: 0.9704 - val_loss: 0.0911 - learning_rate: 0.0010\n",
      "Epoch 2/30\n",
      "1050/1050 - 41s - 39ms/step - accuracy: 0.9801 - loss: 0.0654 - val_accuracy: 0.9782 - val_loss: 0.0690 - learning_rate: 0.0010\n",
      "Epoch 3/30\n",
      "1050/1050 - 28s - 27ms/step - accuracy: 0.9874 - loss: 0.0401 - val_accuracy: 0.9821 - val_loss: 0.0626 - learning_rate: 0.0010\n",
      "Epoch 4/30\n",
      "1050/1050 - 50s - 48ms/step - accuracy: 0.9920 - loss: 0.0264 - val_accuracy: 0.9835 - val_loss: 0.0591 - learning_rate: 0.0010\n",
      "Epoch 5/30\n",
      "1050/1050 - 61s - 58ms/step - accuracy: 0.9946 - loss: 0.0177 - val_accuracy: 0.9811 - val_loss: 0.0695 - learning_rate: 0.0010\n",
      "Epoch 6/30\n",
      "1050/1050 - 73s - 70ms/step - accuracy: 0.9963 - loss: 0.0115 - val_accuracy: 0.9839 - val_loss: 0.0636 - learning_rate: 0.0010\n",
      "Epoch 7/30\n",
      "1050/1050 - 83s - 79ms/step - accuracy: 0.9977 - loss: 0.0082 - val_accuracy: 0.9846 - val_loss: 0.0645 - learning_rate: 0.0010\n",
      "Epoch 8/30\n",
      "1050/1050 - 82s - 79ms/step - accuracy: 0.9996 - loss: 0.0021 - val_accuracy: 0.9875 - val_loss: 0.0570 - learning_rate: 2.0000e-04\n",
      "Epoch 9/30\n",
      "1050/1050 - 84s - 80ms/step - accuracy: 1.0000 - loss: 8.7677e-04 - val_accuracy: 0.9873 - val_loss: 0.0585 - learning_rate: 2.0000e-04\n",
      "Epoch 10/30\n",
      "1050/1050 - 29s - 27ms/step - accuracy: 1.0000 - loss: 5.7154e-04 - val_accuracy: 0.9873 - val_loss: 0.0597 - learning_rate: 2.0000e-04\n",
      "Epoch 11/30\n",
      "1050/1050 - 26s - 25ms/step - accuracy: 1.0000 - loss: 3.7265e-04 - val_accuracy: 0.9873 - val_loss: 0.0622 - learning_rate: 2.0000e-04\n",
      "Epoch 12/30\n",
      "1050/1050 - 38s - 36ms/step - accuracy: 1.0000 - loss: 2.5076e-04 - val_accuracy: 0.9877 - val_loss: 0.0624 - learning_rate: 4.0000e-05\n",
      "Epoch 13/30\n",
      "1050/1050 - 28s - 26ms/step - accuracy: 1.0000 - loss: 2.1684e-04 - val_accuracy: 0.9876 - val_loss: 0.0630 - learning_rate: 4.0000e-05\n",
      "Validation Accuracy: 0.9875, Loss: 0.0570\n"
     ]
    }
   ],
   "source": [
    "for fold, (train_idx, val_idx) in enumerate(kf.split(x_train, y_train)):\n",
    "    print(f\"Fold {fold+1}/{NUM_FOLD}\")\n",
    "\n",
    "    # Split data into training and validation sets\n",
    "    x_tr, x_val = x_train[train_idx], x_train[val_idx]\n",
    "    y_tr, y_val = y_train[train_idx], y_train[val_idx]\n",
    "\n",
    "    # Convert to TensorFlow datasets\n",
    "    tr_ds = tf.data.Dataset.from_tensor_slices((x_tr, y_tr))\n",
    "    val_ds = tf.data.Dataset.from_tensor_slices((x_val, y_val))\n",
    "\n",
    "    # Optimize datasets with shuffle, batch, map (preprocessing), and prefetch\n",
    "    tr_ds = (tr_ds.shuffle(SHUFFLE_SIZE)\n",
    "                  .batch(BATCH_SIZE)\n",
    "                  .map(lambda x, y: (preprocessing_layer(x), y))\n",
    "                  .prefetch(PREFETCH_SIZE))\n",
    "\n",
    "    val_ds = (val_ds.batch(BATCH_SIZE)\n",
    "                    .map(lambda x, y: (preprocessing_layer(x), y))\n",
    "                    .prefetch(PREFETCH_SIZE))\n",
    "\n",
    "    # Build and compile model\n",
    "    model = build_digit_model()\n",
    "    model.compile(\n",
    "        optimizer=tf.keras.optimizers.Adam(1e-3),\n",
    "        loss=tf.keras.losses.SparseCategoricalCrossentropy(from_logits=True),\n",
    "        metrics=['accuracy']\n",
    "    )\n",
    "\n",
    "    # Define callbacks\n",
    "    early_stop = tf.keras.callbacks.EarlyStopping(patience=5, restore_best_weights=True)\n",
    "    reduce_lr = tf.keras.callbacks.ReduceLROnPlateau(patience=3, factor=0.2, min_lr=1e-5)\n",
    "\n",
    "    # Train model\n",
    "    history = model.fit(\n",
    "        tr_ds,\n",
    "        validation_data=val_ds,\n",
    "        epochs=30,\n",
    "        callbacks=[early_stop, reduce_lr],\n",
    "        verbose=2\n",
    "    )\n",
    "\n",
    "    # Save metrics\n",
    "    val_loss, val_acc = model.evaluate(val_ds, verbose=0)\n",
    "    fold_acc_hist.append(val_acc)\n",
    "    fold_loss_hist.append(val_loss)\n",
    "    histories.append(history.history)\n",
    "\n",
    "    print(f\"Validation Accuracy: {val_acc:.4f}, Loss: {val_loss:.4f}\")"
   ]
  },
  {
   "cell_type": "markdown",
   "metadata": {
    "id": "8vxgH5vewF3k"
   },
   "source": [
    "Model Performance Evaluation"
   ]
  },
  {
   "cell_type": "code",
   "execution_count": 34,
   "metadata": {
    "colab": {
     "base_uri": "https://localhost:8080/"
    },
    "id": "nG6CSgzkFP_z",
    "outputId": "531df440-87e0-4c82-d121-07aa67ac0c21"
   },
   "outputs": [
    {
     "name": "stdout",
     "output_type": "stream",
     "text": [
      "Average Validation Accuracy: 0.9859\n",
      "Average Validation Loss: 0.0577\n"
     ]
    }
   ],
   "source": [
    "average_accuracy = np.mean(fold_acc_hist)\n",
    "average_loss = np.mean(fold_loss_hist)\n",
    "\n",
    "print(f\"Average Validation Accuracy: {average_accuracy:.4f}\")\n",
    "print(f\"Average Validation Loss: {average_loss:.4f}\")"
   ]
  },
  {
   "cell_type": "markdown",
   "metadata": {
    "id": "jKnIuXpeFl0-"
   },
   "source": [
    "<h2 style=\"color: #F08B51;\">Visualizing Metrics Across All Folds</h2> "
   ]
  },
  {
   "cell_type": "code",
   "execution_count": 36,
   "metadata": {
    "colab": {
     "base_uri": "https://localhost:8080/",
     "height": 301
    },
    "id": "4GUUg0W5FmVi",
    "outputId": "2aa669f1-9a71-40a2-cdfb-ccc261161e04"
   },
   "outputs": [
    {
     "data": {
      "image/png": "[encoded data removed]",
      "text/plain": [
       "<Figure size 1400x600 with 2 Axes>"
      ]
     },
     "metadata": {},
     "output_type": "display_data"
    }
   ],
   "source": [
    "all_fold_acc = [hist[\"val_accuracy\"] for hist in histories]\n",
    "all_fold_loss = [hist[\"val_loss\"] for hist in histories]\n",
    "\n",
    "max_epochs = max(len(h) for h in all_fold_acc)\n",
    "\n",
    "def pad_history(hist_list):\n",
    "    return [h + [h[-1]] * (max_epochs - len(h)) for h in hist_list]\n",
    "\n",
    "acc_array = np.array(pad_history(all_fold_acc))\n",
    "loss_array = np.array(pad_history(all_fold_loss))\n",
    "\n",
    "mean_acc = acc_array.mean(axis=0)\n",
    "mean_loss = loss_array.mean(axis=0)\n",
    "\n",
    "fig, (ax1, ax2) = plt.subplots(1, 2, figsize=(14, 6))\n",
    "ax1.plot(mean_acc, label=\"Avg Val Accuracy\")\n",
    "ax1.set_title(\"Average Validation Accuracy Over Epochs\")\n",
    "ax1.set_xlabel(\"Epoch\")\n",
    "ax1.set_ylabel(\"Accuracy\")\n",
    "ax1.legend()\n",
    "\n",
    "ax2.plot(mean_loss, label=\"Avg Val Loss\", color=\"orange\")\n",
    "ax2.set_title(\"Average Validation Loss Over Epochs\")\n",
    "ax2.set_xlabel(\"Epoch\")\n",
    "ax2.set_ylabel(\"Loss\")\n",
    "ax2.legend()\n",
    "\n",
    "plt.tight_layout()\n",
    "plt.show()"
   ]
  },
  {
   "cell_type": "markdown",
   "metadata": {
    "id": "1umuXXn5FsCB"
   },
   "source": [
    "<h2 style=\"color: #F08B51;\">Test Set Prediction Preparation</h2> "
   ]
  },
  {
   "cell_type": "code",
   "execution_count": 38,
   "metadata": {
    "id": "zIK3jLj2FtC7"
   },
   "outputs": [],
   "source": [
    "test_ds = tf.data.Dataset.from_tensor_slices(x_test)\n",
    "test_ds = (\n",
    "    test_ds\n",
    "    .batch(BATCH_SIZE)\n",
    "    .map(lambda x: preprocessing_layer(x))\n",
    "    .prefetch(tf.data.AUTOTUNE)\n",
    ")"
   ]
  },
  {
   "cell_type": "markdown",
   "metadata": {
    "id": "3hdfVZEdGhVt"
   },
   "source": [
    "Making Predictions"
   ]
  },
  {
   "cell_type": "code",
   "execution_count": 40,
   "metadata": {
    "colab": {
     "base_uri": "https://localhost:8080/"
    },
    "id": "P_uOYDEoGhvo",
    "outputId": "66d81d0f-5c41-43ce-bd21-3dd8681a87f1"
   },
   "outputs": [
    {
     "name": "stdout",
     "output_type": "stream",
     "text": [
      "\u001b[1m875/875\u001b[0m \u001b[32m━━━━━━━━━━━━━━━━━━━━\u001b[0m\u001b[37m\u001b[0m \u001b[1m6s\u001b[0m 6ms/step\n"
     ]
    }
   ],
   "source": [
    "pred_logits = model.predict(test_ds)\n",
    "pred_labels = tf.argmax(pred_logits, axis=1)"
   ]
  },
  {
   "cell_type": "markdown",
   "metadata": {
    "id": "XJdz-YqYGp29"
   },
   "source": [
    "Class Distribution in Prediction"
   ]
  },
  {
   "cell_type": "code",
   "execution_count": 42,
   "metadata": {
    "colab": {
     "base_uri": "https://localhost:8080/",
     "height": 391
    },
    "id": "Vh746_TMGpkw",
    "outputId": "94eec0f4-3e17-424d-ae14-66f6ff626aab"
   },
   "outputs": [
    {
     "data": {
      "image/png": "[encoded data removed]",
      "text/plain": [
       "<Figure size 800x400 with 1 Axes>"
      ]
     },
     "metadata": {},
     "output_type": "display_data"
    }
   ],
   "source": [
    "plt.figure(figsize=(8, 4))\n",
    "sns.histplot(pred_labels.numpy(), bins=10, kde=True)\n",
    "plt.title(\"Predicted Digit Distribution\")\n",
    "plt.xlabel(\"Digit\")\n",
    "plt.ylabel(\"Count\")\n",
    "plt.show()"
   ]
  },
  {
   "cell_type": "markdown",
   "metadata": {
    "id": "eVwSaYR9G96v"
   },
   "source": [
    "<h2 style=\"color: #F08B51;\">Saving Submission File</h2> "
   ]
  },
  {
   "cell_type": "code",
   "execution_count": 44,
   "metadata": {
    "id": "a-dmBzxMHsj_"
   },
   "outputs": [],
   "source": [
    "# Prepare submission DataFrame with image indices and predicted labels\n",
    "submission = pd.DataFrame(\n",
    "    {'ImageId': df_test.index + 1,  # Kaggle requires 1-based index usually\n",
    "     'Label': pred_labels.numpy()}\n",
    ")"
   ]
  },
  {
   "cell_type": "code",
   "execution_count": 45,
   "metadata": {
    "colab": {
     "base_uri": "https://localhost:8080/",
     "height": 211
    },
    "id": "Sp43rAdOHAZA",
    "outputId": "4f60a389-a94b-4987-a5ac-aa0f6c2072bc"
   },
   "outputs": [
    {
     "name": "stdout",
     "output_type": "stream",
     "text": [
      "Submission file 'submission.csv' has been created successfully!\n",
      "   ImageId  Label\n",
      "0        1      2\n",
      "1        2      0\n",
      "2        3      9\n",
      "3        4      0\n",
      "4        5      3\n"
     ]
    }
   ],
   "source": [
    "# Save the submission DataFrame to a CSV file (without the index)\n",
    "submission.to_csv('submission.csv', index=False)\n",
    "\n",
    "# (Optional) Print a confirmation message\n",
    "print(\"Submission file 'submission.csv' has been created successfully!\")\n",
    "\n",
    "# (Optional) Show the first few rows of the submission to verify\n",
    "print(submission.head())"
   ]
  }
 ],
 "metadata": {
  "colab": {
   "provenance": []
  },
  "kernelspec": {
   "display_name": "Python [conda env:base] *",
   "language": "python",
   "name": "conda-base-py"
  },
  "language_info": {
   "codemirror_mode": {
    "name": "ipython",
    "version": 3
   },
   "file_extension": ".py",
   "mimetype": "text/x-python",
   "name": "python",
   "nbconvert_exporter": "python",
   "pygments_lexer": "ipython3",
   "version": "3.12.7"
  }
 },
 "nbformat": 4,
 "nbformat_minor": 4
}
